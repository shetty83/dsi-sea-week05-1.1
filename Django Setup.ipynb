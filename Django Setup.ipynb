{
 "cells": [
  {
   "cell_type": "markdown",
   "metadata": {},
   "source": [
    "pip install Django==1.10.3"
   ]
  },
  {
   "cell_type": "code",
   "execution_count": 1,
   "metadata": {
    "collapsed": true
   },
   "outputs": [],
   "source": [
    "import django"
   ]
  },
  {
   "cell_type": "code",
   "execution_count": 2,
   "metadata": {
    "collapsed": false
   },
   "outputs": [
    {
     "name": "stdout",
     "output_type": "stream",
     "text": [
      "1.10.3\n"
     ]
    }
   ],
   "source": [
    "print(django.get_version())"
   ]
  },
  {
   "cell_type": "markdown",
   "metadata": {},
   "source": [
    "<b>Creates a new project</b> => django-admin startproject classproject"
   ]
  },
  {
   "cell_type": "markdown",
   "metadata": {},
   "source": [
    "<b>Creates a new site</b> => python manage.py startapp website"
   ]
  },
  {
   "cell_type": "markdown",
   "metadata": {},
   "source": [
    "<b>Compiles your models when you make changes</b> => python manage.py makemigrations website"
   ]
  },
  {
   "cell_type": "markdown",
   "metadata": {},
   "source": [
    "<b>Compiles your site. When you install new things like libraries, you need to run this</b> => python manage.py migrate"
   ]
  },
  {
   "cell_type": "markdown",
   "metadata": {},
   "source": [
    "<b>Create a superuser</b> => python manage.py createsuperuser"
   ]
  },
  {
   "cell_type": "markdown",
   "metadata": {},
   "source": [
    "USername - shetty83\n",
    "email  - babas83@gmail.com\n",
    "password - Kenjar@33"
   ]
  },
  {
   "cell_type": "markdown",
   "metadata": {},
   "source": [
    "<b>Check your current server state</b> => python manage.py check"
   ]
  },
  {
   "cell_type": "markdown",
   "metadata": {},
   "source": [
    "<b>Starts your site</b> => python manage.py runserver"
   ]
  },
  {
   "cell_type": "markdown",
   "metadata": {
    "collapsed": true
   },
   "source": [
    "### Don't name folders the same name as config files (aka models). Python evidently doesn't know the difference "
   ]
  },
  {
   "cell_type": "code",
   "execution_count": null,
   "metadata": {
    "collapsed": true
   },
   "outputs": [],
   "source": []
  },
  {
   "cell_type": "code",
   "execution_count": 37,
   "metadata": {
    "collapsed": false
   },
   "outputs": [],
   "source": [
    "from bs4 import BeautifulSoup\n",
    "import urllib2\n",
    "\n",
    "import json\n",
    "giphy_search = 'monkey'\n",
    "data = urllib2.urlopen(\"http://api.giphy.com/v1/gifs/search?q=\"+ giphy_search + \"&api_key=dc6zaTOxFJmzC\").read()\n",
    "parsed_json  = json.loads(data)\n",
    "urls = []\n",
    "for i in parsed_json['data']:\n",
    "    urls.append(i['images']['fixed_width']['url'])"
   ]
  },
  {
   "cell_type": "code",
   "execution_count": 38,
   "metadata": {
    "collapsed": false
   },
   "outputs": [
    {
     "data": {
      "text/plain": [
       "[u'http://media1.giphy.com/media/3o7TKo5BwkNCEJ0AzC/200w.gif',\n",
       " u'http://media1.giphy.com/media/YPBvdXHxANHHi/200w.gif',\n",
       " u'http://media2.giphy.com/media/8nhgZZMKUicpi/200w.gif',\n",
       " u'http://media2.giphy.com/media/B1YYaNojpctpK/200w.gif',\n",
       " u'http://media1.giphy.com/media/TLulTJKuyLgMU/200w.gif',\n",
       " u'http://media4.giphy.com/media/KzGCAlMiK6hQQ/200w.gif',\n",
       " u'http://media0.giphy.com/media/42YlR8u9gV5Cw/200w.gif',\n",
       " u'https://media3.giphy.com/media/3o7TKFzrtM5kCTOmFq/200w.gif',\n",
       " u'http://media1.giphy.com/media/xTiTnFClK0PdoDeJTW/200w.gif',\n",
       " u'http://media2.giphy.com/media/l3vRhaxVcQ1i0CZlC/200w.gif',\n",
       " u'http://media0.giphy.com/media/1BCIlYHwJ3hu0/200w.gif',\n",
       " u'https://media3.giphy.com/media/l0HlFv864YAVLaAJa/200w.gif',\n",
       " u'http://media2.giphy.com/media/l0HlDyYUTHtgcJVJu/200w.gif',\n",
       " u'http://media3.giphy.com/media/9CVVIhIUfCExy/200w.gif',\n",
       " u'https://media3.giphy.com/media/mUMA3nPwgx0jK/200w.gif',\n",
       " u'http://media1.giphy.com/media/l0MYPzFBh9JqIJpUQ/200w.gif',\n",
       " u'http://media0.giphy.com/media/Ujgg3ApoTGoKs/200w.gif',\n",
       " u'http://media2.giphy.com/media/3o7TKSwgYVanau0zxm/200w.gif',\n",
       " u'http://media1.giphy.com/media/3o6MbfI7BHRTKP7gSQ/200w.gif',\n",
       " u'http://media1.giphy.com/media/3oEdvbpl0X32bXD2Vi/200w.gif',\n",
       " u'http://media3.giphy.com/media/5Zesu5VPNGJlm/200w.gif',\n",
       " u'http://media0.giphy.com/media/kLLvH1EOtCwQ8/200w.gif',\n",
       " u'http://media2.giphy.com/media/OmY6GtxkiTwo8/200w.gif',\n",
       " u'http://media1.giphy.com/media/8yyJH4yzqgx0Y/200w.gif',\n",
       " u'https://media1.giphy.com/media/l46C9JpK2rRIcMh56/200w.gif']"
      ]
     },
     "execution_count": 38,
     "metadata": {},
     "output_type": "execute_result"
    }
   ],
   "source": [
    "urls"
   ]
  },
  {
   "cell_type": "code",
   "execution_count": null,
   "metadata": {
    "collapsed": true
   },
   "outputs": [],
   "source": [
    "for i in range(0,len(parsed_json['data'])):\n",
    "    conspiracyDict['title'] += [parsed_json['data']['children'][i]['data']['title']]\n",
    "    conspiracyDict['permalink'] += [parsed_json['data']['children'][i]['data']['permalink']]\n",
    "    conspiracyDict['url'] += [parsed_json['data']['children'][i]['data']['url']]\n",
    "    conspiracyDict['ups'] += [parsed_json['data']['children'][i]['data']['ups']]\n"
   ]
  }
 ],
 "metadata": {
  "anaconda-cloud": {},
  "kernelspec": {
   "display_name": "Python [default]",
   "language": "python",
   "name": "python2"
  },
  "language_info": {
   "codemirror_mode": {
    "name": "ipython",
    "version": 2
   },
   "file_extension": ".py",
   "mimetype": "text/x-python",
   "name": "python",
   "nbconvert_exporter": "python",
   "pygments_lexer": "ipython2",
   "version": "2.7.12"
  }
 },
 "nbformat": 4,
 "nbformat_minor": 0
}
